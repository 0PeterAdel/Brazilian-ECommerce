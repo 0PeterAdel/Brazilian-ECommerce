{
 "cells": [
  {
   "cell_type": "code",
   "execution_count": 3,
   "metadata": {},
   "outputs": [],
   "source": [
    "import pandas as pd\n",
    "import numpy as np"
   ]
  },
  {
   "cell_type": "markdown",
   "metadata": {},
   "source": [
    "**Load Data**"
   ]
  },
  {
   "cell_type": "code",
   "execution_count": null,
   "metadata": {},
   "outputs": [
    {
     "name": "stdout",
     "output_type": "stream",
     "text": [
      "                           order_id  payment_sequential payment_type  \\\n",
      "0  b81ef226f3fe1789b1e8b2acac839d17                   1  credit_card   \n",
      "1  a9810da82917af2d9aefd1278f1dcfa0                   1  credit_card   \n",
      "2  25e8ea4e93396b6fa0d3dd708e76c1bd                   1  credit_card   \n",
      "\n",
      "   payment_installments  payment_value  \n",
      "0                     8          99.33  \n",
      "1                     1          24.39  \n",
      "2                     1          65.71  \n",
      "                          review_id                          order_id  \\\n",
      "0  7bc2406110b926393aa56f80a40eba40  73fc7af87114b39712e6da79b0a377eb   \n",
      "1  80e641a11e56f04c1ad469d5645fdfde  a548910a1c6147796b98fdf73dbeba33   \n",
      "2  228ce5500dc1d8e020d8d1322874b6f0  f9e4b658b201a9f2ecdecbb34bed034b   \n",
      "\n",
      "   review_score review_comment_title review_comment_message  \\\n",
      "0             4                  NaN                    NaN   \n",
      "1             5                  NaN                    NaN   \n",
      "2             5                  NaN                    NaN   \n",
      "\n",
      "  review_creation_date review_answer_timestamp  \n",
      "0       1/18/2018 0:00         1/18/2018 21:46  \n",
      "1       3/10/2018 0:00          3/11/2018 3:05  \n",
      "2       2/17/2018 0:00         2/18/2018 14:36  \n"
     ]
    }
   ],
   "source": [
    "root_path = \"../DataSet/\"\n",
    "\n",
    "# olist_orders_dataset & Converting date column to datetime type\n",
    "orders = pd.read_csv(root_path + \"olist_orders_dataset.csv\", parse_dates=[\"order_purchase_timestamp\"])\n",
    "# olist_order_items_dataset\n",
    "order_items = pd.read_csv(root_path + \"olist_order_items_dataset.csv\")\n",
    "# olist_order_payments_dataset\n",
    "order_payments = pd.read_csv(root_path + \"olist_order_payments_dataset.csv\")\n",
    "# olist_order_reviews_dataset\n",
    "order_reviews = pd.read_csv(root_path + \"olist_order_reviews_dataset.csv\")\n",
    "\n",
    "# Printing the first 3 rows of each dataset\n",
    "print(orders.head(3))\n",
    "print(order_items.head(3))\n",
    "print(order_payments.head(3))\n",
    "print(order_reviews.head(3))"
   ]
  },
  {
   "cell_type": "markdown",
   "metadata": {},
   "source": [
    "**Examine data and identify missing values ​​and errors.**"
   ]
  },
  {
   "cell_type": "code",
   "execution_count": 29,
   "metadata": {},
   "outputs": [
    {
     "name": "stdout",
     "output_type": "stream",
     "text": [
      "Missing values in orders:\n",
      "order_id                            0\n",
      "customer_id                         0\n",
      "order_status                        0\n",
      "order_purchase_timestamp            0\n",
      "order_approved_at                 160\n",
      "order_delivered_carrier_date     1783\n",
      "order_delivered_customer_date    2965\n",
      "order_estimated_delivery_date       0\n",
      "dtype: int64\n",
      "Missing values in order_items:\n",
      "order_id               0\n",
      "order_item_id          0\n",
      "product_id             0\n",
      "seller_id              0\n",
      "shipping_limit_date    0\n",
      "price                  0\n",
      "freight_value          0\n",
      "dtype: int64\n",
      "Missing values in order_payments:\n",
      "order_id                0\n",
      "payment_sequential      0\n",
      "payment_type            0\n",
      "payment_installments    0\n",
      "payment_value           0\n",
      "dtype: int64\n",
      "Missing values in order_reviews:\n",
      "review_id                      0\n",
      "order_id                       0\n",
      "review_score                   0\n",
      "review_comment_title       87656\n",
      "review_comment_message     58247\n",
      "review_creation_date           0\n",
      "review_answer_timestamp        0\n",
      "dtype: int64\n"
     ]
    }
   ],
   "source": [
    "print(\"Missing values in orders:\")\n",
    "print(orders.isnull().sum())\n",
    "\n",
    "print(\"Missing values in order_items:\")\n",
    "print(order_items.isnull().sum())\n",
    "\n",
    "print(\"Missing values in order_payments:\")\n",
    "print(order_payments.isnull().sum())\n",
    "\n",
    "print(\"Missing values in order_reviews:\")\n",
    "print(order_reviews.isnull().sum())\n",
    "\n"
   ]
  },
  {
   "cell_type": "code",
   "execution_count": null,
   "metadata": {},
   "outputs": [
    {
     "name": "stdout",
     "output_type": "stream",
     "text": [
      "Missing values percentage in orders:\n",
      " order_id                         0.000000\n",
      "customer_id                      0.000000\n",
      "order_status                     0.000000\n",
      "order_purchase_timestamp         0.000000\n",
      "order_approved_at                0.160899\n",
      "order_delivered_carrier_date     1.793023\n",
      "order_delivered_customer_date    2.981668\n",
      "order_estimated_delivery_date    0.000000\n",
      "dtype: float64\n",
      "Order status distribution for missing order_approved_at:\n",
      " order_status\n",
      "canceled     141\n",
      "delivered     14\n",
      "created        5\n",
      "Name: count, dtype: int64\n",
      "Order status distribution for missing order_delivered_customer_date:\n",
      " order_status\n",
      "shipped        1107\n",
      "canceled        619\n",
      "unavailable     609\n",
      "invoiced        314\n",
      "processing      301\n",
      "delivered         8\n",
      "created           5\n",
      "approved          2\n",
      "Name: count, dtype: int64\n"
     ]
    }
   ],
   "source": [
    "orders_missing_pct = orders.isnull().mean() * 100\n",
    "\n",
    "print(\"Missing values percentage in orders:\\n\", orders_missing_pct)\n",
    "\n",
    "missing_approved = orders[orders['order_approved_at'].isnull()]\n",
    "print(\"Order status distribution for missing order_approved_at:\\n\", missing_approved['order_status'].value_counts())\n",
    "\n",
    "missing_delivered = orders[orders['order_delivered_customer_date'].isnull()]\n",
    "print(\"Order status distribution for missing order_delivered_customer_date:\\n\", missing_delivered['order_status'].value_counts())\n"
   ]
  },
  {
   "cell_type": "markdown",
   "metadata": {},
   "source": [
    "**Data Cleansing (Handling Missing Values ​​and Correcting Errors)**"
   ]
  },
  {
   "cell_type": "code",
   "execution_count": null,
   "metadata": {},
   "outputs": [],
   "source": []
  },
  {
   "cell_type": "markdown",
   "metadata": {},
   "source": [
    "**Merge Data**"
   ]
  },
  {
   "cell_type": "code",
   "execution_count": null,
   "metadata": {},
   "outputs": [],
   "source": []
  }
 ],
 "metadata": {
  "kernelspec": {
   "display_name": ".env",
   "language": "python",
   "name": "python3"
  },
  "language_info": {
   "codemirror_mode": {
    "name": "ipython",
    "version": 3
   },
   "file_extension": ".py",
   "mimetype": "text/x-python",
   "name": "python",
   "nbconvert_exporter": "python",
   "pygments_lexer": "ipython3",
   "version": "3.12.7"
  }
 },
 "nbformat": 4,
 "nbformat_minor": 2
}
