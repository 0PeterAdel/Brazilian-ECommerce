{
 "cells": [
  {
   "cell_type": "code",
   "execution_count": 2,
   "metadata": {},
   "outputs": [],
   "source": [
    "import pandas as pd\n",
    "import numpy as np"
   ]
  },
  {
   "cell_type": "markdown",
   "metadata": {},
   "source": [
    "**Load the dataset**"
   ]
  },
  {
   "cell_type": "code",
   "execution_count": 3,
   "metadata": {},
   "outputs": [],
   "source": [
    "root_path = \"../DataSet/\"\n",
    "\n",
    "categories = pd.read_csv(root_path + 'product_category_name_translation.csv')"
   ]
  },
  {
   "cell_type": "markdown",
   "metadata": {},
   "source": [
    "**Step 1: Inspect the data**"
   ]
  },
  {
   "cell_type": "code",
   "execution_count": 4,
   "metadata": {},
   "outputs": [
    {
     "name": "stdout",
     "output_type": "stream",
     "text": [
      "Initial Categories Dataset Info:\n",
      "<class 'pandas.core.frame.DataFrame'>\n",
      "RangeIndex: 71 entries, 0 to 70\n",
      "Data columns (total 2 columns):\n",
      " #   Column                         Non-Null Count  Dtype \n",
      "---  ------                         --------------  ----- \n",
      " 0   product_category_name          71 non-null     object\n",
      " 1   product_category_name_english  71 non-null     object\n",
      "dtypes: object(2)\n",
      "memory usage: 1.2+ KB\n",
      "None\n",
      "\n",
      "Missing Values:\n",
      "product_category_name            0\n",
      "product_category_name_english    0\n",
      "dtype: int64\n",
      "\n",
      "Duplicate Categories:\n",
      "0\n"
     ]
    }
   ],
   "source": [
    "print(\"Initial Categories Dataset Info:\")\n",
    "print(categories.info())\n",
    "print(\"\\nMissing Values:\")\n",
    "print(categories.isnull().sum())\n",
    "print(\"\\nDuplicate Categories:\")\n",
    "print(categories['product_category_name'].duplicated().sum())"
   ]
  },
  {
   "cell_type": "markdown",
   "metadata": {},
   "source": [
    "**Step 2: Handle missing values**"
   ]
  },
  {
   "cell_type": "code",
   "execution_count": 5,
   "metadata": {},
   "outputs": [
    {
     "name": "stdout",
     "output_type": "stream",
     "text": [
      "Dropped 0 rows with missing category names\n"
     ]
    }
   ],
   "source": [
    "# Drop rows with missing category names (either Portuguese or English)\n",
    "categories = categories.dropna(subset=['product_category_name', 'product_category_name_english'])\n",
    "print(f\"Dropped {categories.isnull().sum().sum()} rows with missing category names\")"
   ]
  },
  {
   "cell_type": "markdown",
   "metadata": {},
   "source": [
    "**Step 3: Ensure data type consistency**"
   ]
  },
  {
   "cell_type": "code",
   "execution_count": 6,
   "metadata": {},
   "outputs": [],
   "source": [
    "categories['product_category_name'] = categories['product_category_name'].astype(str)\n",
    "categories['product_category_name_english'] = categories['product_category_name_english'].astype(str)"
   ]
  },
  {
   "cell_type": "markdown",
   "metadata": {},
   "source": [
    "**Step 4: Standardize text data**"
   ]
  },
  {
   "cell_type": "code",
   "execution_count": 7,
   "metadata": {},
   "outputs": [],
   "source": [
    "# Remove whitespace and standardize formatting\n",
    "categories['product_category_name'] = categories['product_category_name'].str.strip().str.lower()\n",
    "categories['product_category_name_english'] = categories['product_category_name_english'].str.strip().str.lower().str.replace(' ', '_')"
   ]
  },
  {
   "cell_type": "markdown",
   "metadata": {},
   "source": [
    "**Step 5: Check for duplicates**"
   ]
  },
  {
   "cell_type": "code",
   "execution_count": 8,
   "metadata": {},
   "outputs": [
    {
     "name": "stdout",
     "output_type": "stream",
     "text": [
      "Removed 0 duplicate category names\n"
     ]
    }
   ],
   "source": [
    "# Remove duplicate Portuguese category names, keeping the first translation\n",
    "categories = categories.drop_duplicates(subset=['product_category_name'], keep='first')\n",
    "print(f\"Removed {categories['product_category_name'].duplicated().sum()} duplicate category names\")"
   ]
  },
  {
   "cell_type": "markdown",
   "metadata": {},
   "source": [
    "**Step 6: Creative Addition - Add category grouping**"
   ]
  },
  {
   "cell_type": "code",
   "execution_count": 9,
   "metadata": {},
   "outputs": [
    {
     "name": "stdout",
     "output_type": "stream",
     "text": [
      "Added supercategory column for broader category analysis\n"
     ]
    }
   ],
   "source": [
    "# Group categories into broader supercategories for advanced analysis\n",
    "supercategory_mapping = {\n",
    "    'health_beauty': 'Personal Care', 'perfumery': 'Personal Care', 'baby': 'Personal Care',\n",
    "    'computers_accessories': 'Electronics', 'telephony': 'Electronics', 'fixed_telephony': 'Electronics',\n",
    "    'electronics': 'Electronics', 'home_appliances': 'Electronics', 'home_appliances_2': 'Electronics',\n",
    "    'auto': 'Automotive', 'construction_tools_construction': 'Home & Garden', 'garden_tools': 'Home & Garden',\n",
    "    'bed_bath_table': 'Home & Garden', 'furniture_decor': 'Home & Garden', 'housewares': 'Home & Garden',\n",
    "    'sports_leisure': 'Sports & Leisure', 'fashion_bags_accessories': 'Fashion', 'fashion_shoes': 'Fashion',\n",
    "    'fashion_male_clothing': 'Fashion', 'fashion_underwear_beach': 'Fashion', 'fashion_sport': 'Fashion',\n",
    "    'fashion_female_clothing': 'Fashion', 'fashion_childrens_clothes': 'Fashion',\n",
    "    'toys': 'Entertainment', 'consoles_games': 'Entertainment', 'musical_instruments': 'Entertainment',\n",
    "    'food_drink': 'Food & Beverage', 'food': 'Food & Beverage', 'drinks': 'Food & Beverage',\n",
    "    # Add more mappings as needed\n",
    "}\n",
    "categories['supercategory'] = categories['product_category_name_english'].map(supercategory_mapping).fillna('Other')\n",
    "print(\"Added supercategory column for broader category analysis\")"
   ]
  },
  {
   "cell_type": "markdown",
   "metadata": {},
   "source": [
    "**Step 7: Save the cleaned dataset**"
   ]
  },
  {
   "cell_type": "code",
   "execution_count": null,
   "metadata": {},
   "outputs": [
    {
     "name": "stdout",
     "output_type": "stream",
     "text": [
      "Categories dataset cleaned and saved as 'cleaned_product_category_name_translation.csv'\n"
     ]
    }
   ],
   "source": [
    "categories.to_csv('./Data_Cleaned/cleaned_product_category_name_translation.csv', index=False)\n",
    "print(\"Categories dataset cleaned and saved as './Data_Cleaned/cleaned_product_category_name_translation.csv'\")"
   ]
  }
 ],
 "metadata": {
  "kernelspec": {
   "display_name": ".env",
   "language": "python",
   "name": "python3"
  },
  "language_info": {
   "codemirror_mode": {
    "name": "ipython",
    "version": 3
   },
   "file_extension": ".py",
   "mimetype": "text/x-python",
   "name": "python",
   "nbconvert_exporter": "python",
   "pygments_lexer": "ipython3",
   "version": "3.12.7"
  }
 },
 "nbformat": 4,
 "nbformat_minor": 2
}
