{
 "cells": [
  {
   "cell_type": "code",
   "execution_count": 1,
   "metadata": {},
   "outputs": [],
   "source": [
    "import pandas as pd"
   ]
  },
  {
   "cell_type": "markdown",
   "metadata": {},
   "source": [
    "#### Step 1: Load and Verify the Cleaned Dataset\n",
    "\n",
    "*Objective: *Ensure the cleaned dataset is ready for analysis by loading it and verifying the presence of required columns.**"
   ]
  },
  {
   "cell_type": "code",
   "execution_count": 2,
   "metadata": {},
   "outputs": [],
   "source": [
    "root_path = \"../Data_Clean/Data_Cleaned/\"\n",
    "\n",
    "data = pd.read_csv(root_path + 'merged_olist_dataset.csv')"
   ]
  },
  {
   "cell_type": "markdown",
   "metadata": {},
   "source": [
    "**1. Define required columns**"
   ]
  },
  {
   "cell_type": "code",
   "execution_count": 3,
   "metadata": {},
   "outputs": [],
   "source": [
    "required_columns = [\n",
    "    'order_purchase_timestamp', 'payment_value', 'payment_type', 'order_status',\n",
    "    'price', 'freight_value', 'order_approved_at', 'order_delivered_customer_date',\n",
    "    'order_estimated_delivery_date', 'order_id'\n",
    "]"
   ]
  },
  {
   "cell_type": "markdown",
   "metadata": {},
   "source": [
    "**2. Check for missing columns**"
   ]
  },
  {
   "cell_type": "code",
   "execution_count": 4,
   "metadata": {},
   "outputs": [
    {
     "name": "stdout",
     "output_type": "stream",
     "text": [
      "All required columns are present.\n",
      "<class 'pandas.core.frame.DataFrame'>\n",
      "RangeIndex: 119143 entries, 0 to 119142\n",
      "Data columns (total 57 columns):\n",
      " #   Column                         Non-Null Count   Dtype  \n",
      "---  ------                         --------------   -----  \n",
      " 0   order_id                       119143 non-null  object \n",
      " 1   customer_id                    119143 non-null  object \n",
      " 2   order_status                   119143 non-null  object \n",
      " 3   order_purchase_timestamp       119143 non-null  object \n",
      " 4   order_approved_at              118966 non-null  object \n",
      " 5   order_delivered_carrier_date   117057 non-null  object \n",
      " 6   order_delivered_customer_date  115722 non-null  object \n",
      " 7   order_estimated_delivery_date  119143 non-null  object \n",
      " 8   delivery_time_days             115722 non-null  float64\n",
      " 9   order_item_id                  118310 non-null  float64\n",
      " 10  product_id                     118310 non-null  object \n",
      " 11  seller_id                      118310 non-null  object \n",
      " 12  shipping_limit_date            118310 non-null  object \n",
      " 13  price                          118310 non-null  float64\n",
      " 14  freight_value                  118310 non-null  float64\n",
      " 15  total_cost                     118310 non-null  float64\n",
      " 16  product_category_name          118310 non-null  object \n",
      " 17  product_name_lenght            118310 non-null  float64\n",
      " 18  product_description_lenght     118310 non-null  float64\n",
      " 19  product_photos_qty             118310 non-null  float64\n",
      " 20  product_weight_g               118310 non-null  float64\n",
      " 21  product_length_cm              118310 non-null  float64\n",
      " 22  product_height_cm              118310 non-null  float64\n",
      " 23  product_width_cm               118310 non-null  float64\n",
      " 24  product_volume_cm3             118310 non-null  float64\n",
      " 25  is_heavy                       118310 non-null  float64\n",
      " 26  product_category_name_english  116576 non-null  object \n",
      " 27  supercategory                  116576 non-null  object \n",
      " 28  seller_zip_code_prefix         118310 non-null  float64\n",
      " 29  seller_city                    118310 non-null  object \n",
      " 30  seller_state                   118310 non-null  object \n",
      " 31  is_valid_state_x               118310 non-null  float64\n",
      " 32  seller_lat                     118045 non-null  float64\n",
      " 33  seller_lng                     118045 non-null  float64\n",
      " 34  seller_geo_city                118045 non-null  object \n",
      " 35  seller_geo_state               118045 non-null  object \n",
      " 36  customer_unique_id             119143 non-null  object \n",
      " 37  customer_zip_code_prefix       119143 non-null  int64  \n",
      " 38  customer_city                  119143 non-null  object \n",
      " 39  customer_state                 119143 non-null  object \n",
      " 40  is_valid_state_y               119143 non-null  int64  \n",
      " 41  customer_lat                   118821 non-null  float64\n",
      " 42  customer_lng                   118821 non-null  float64\n",
      " 43  customer_geo_city              118821 non-null  object \n",
      " 44  customer_geo_state             118821 non-null  object \n",
      " 45  payment_sequential             119140 non-null  float64\n",
      " 46  payment_type                   119140 non-null  object \n",
      " 47  payment_installments           119140 non-null  float64\n",
      " 48  payment_value                  119140 non-null  float64\n",
      " 49  payment_category               119140 non-null  object \n",
      " 50  review_id                      118146 non-null  object \n",
      " 51  review_score                   118146 non-null  float64\n",
      " 52  review_comment_title           118146 non-null  object \n",
      " 53  review_comment_message         118146 non-null  object \n",
      " 54  review_creation_date           118146 non-null  object \n",
      " 55  review_answer_timestamp        118146 non-null  object \n",
      " 56  response_time_days             118146 non-null  float64\n",
      "dtypes: float64(25), int64(2), object(30)\n",
      "memory usage: 51.8+ MB\n",
      "None\n"
     ]
    }
   ],
   "source": [
    "missing_columns = [col for col in required_columns if col not in data.columns]\n",
    "if missing_columns:\n",
    "    print(f\"Missing columns: {missing_columns}\")\n",
    "else:\n",
    "    print(\"All required columns are present.\")\n",
    "\n",
    "# Display basic info to verify data integrity\n",
    "print(data.info())"
   ]
  },
  {
   "cell_type": "markdown",
   "metadata": {},
   "source": [
    "---\n",
    "---"
   ]
  },
  {
   "cell_type": "markdown",
   "metadata": {},
   "source": [
    "#### Step 2: Handle Data Types and Final Cleaning\n",
    "**Objective: *Ensure data types are correct and perform any final cleaning to prepare for analysis.***"
   ]
  },
  {
   "cell_type": "markdown",
   "metadata": {},
   "source": [
    "*1. Convert date columns to datetime*"
   ]
  },
  {
   "cell_type": "code",
   "execution_count": 6,
   "metadata": {},
   "outputs": [],
   "source": [
    "date_columns = [\n",
    "    'order_purchase_timestamp', 'order_approved_at',\n",
    "    'order_delivered_customer_date', 'order_estimated_delivery_date'\n",
    "]\n",
    "for col in date_columns:\n",
    "    data[col] = pd.to_datetime(data[col], errors='coerce')"
   ]
  },
  {
   "cell_type": "markdown",
   "metadata": {},
   "source": [
    "**2. Check for missing values in critical columns**"
   ]
  },
  {
   "cell_type": "code",
   "execution_count": 7,
   "metadata": {},
   "outputs": [
    {
     "name": "stdout",
     "output_type": "stream",
     "text": [
      "Missing values in critical columns:\n",
      " order_id                      0\n",
      "order_status                  0\n",
      "price                       833\n",
      "freight_value               833\n",
      "order_purchase_timestamp      0\n",
      "dtype: int64\n"
     ]
    }
   ],
   "source": [
    "critical_columns = ['order_id', 'order_status', 'price', 'freight_value', 'order_purchase_timestamp']\n",
    "print(\"Missing values in critical columns:\\n\", data[critical_columns].isnull().sum())"
   ]
  },
  {
   "cell_type": "markdown",
   "metadata": {},
   "source": [
    "**3. Handle missing values**"
   ]
  },
  {
   "cell_type": "code",
   "execution_count": 8,
   "metadata": {},
   "outputs": [],
   "source": [
    "data = data.dropna(subset=critical_columns)"
   ]
  },
  {
   "cell_type": "markdown",
   "metadata": {},
   "source": [
    "**4. Create total_order_value column**"
   ]
  },
  {
   "cell_type": "code",
   "execution_count": 9,
   "metadata": {},
   "outputs": [],
   "source": [
    "data['total_order_value'] = data['price'] + data['freight_value']"
   ]
  },
  {
   "cell_type": "markdown",
   "metadata": {},
   "source": [
    "**5. Verify the new column**"
   ]
  },
  {
   "cell_type": "code",
   "execution_count": 10,
   "metadata": {},
   "outputs": [
    {
     "name": "stdout",
     "output_type": "stream",
     "text": [
      "    price  freight_value  total_order_value\n",
      "0   29.99           8.72              38.71\n",
      "1   29.99           8.72              38.71\n",
      "2   29.99           8.72              38.71\n",
      "3  118.70          22.76             141.46\n",
      "4  159.90          19.22             179.12\n"
     ]
    }
   ],
   "source": [
    "print(data[['price', 'freight_value', 'total_order_value']].head())"
   ]
  },
  {
   "cell_type": "markdown",
   "metadata": {},
   "source": [
    "---\n",
    "---"
   ]
  },
  {
   "cell_type": "markdown",
   "metadata": {},
   "source": [
    "#### Step 3: Perform Reconciliation Criteria Calculations\n",
    "**Objective: *Calculate sales performance metrics as per the challenge requirements.***"
   ]
  },
  {
   "cell_type": "markdown",
   "metadata": {},
   "source": [
    "**1. Total Revenue (delivered orders)**"
   ]
  },
  {
   "cell_type": "code",
   "execution_count": 11,
   "metadata": {},
   "outputs": [],
   "source": [
    "total_revenue = data[data['order_status'] == 'delivered']['total_order_value'].sum()"
   ]
  },
  {
   "cell_type": "markdown",
   "metadata": {},
   "source": [
    "**2. Expected Revenue (approved orders)**"
   ]
  },
  {
   "cell_type": "code",
   "execution_count": 12,
   "metadata": {},
   "outputs": [],
   "source": [
    "expected_revenue = data[data['order_approved_at'].notnull()]['total_order_value'].sum()"
   ]
  },
  {
   "cell_type": "markdown",
   "metadata": {},
   "source": [
    "**3. Canceled Orders**"
   ]
  },
  {
   "cell_type": "code",
   "execution_count": 13,
   "metadata": {},
   "outputs": [],
   "source": [
    "canceled_orders = data[data['order_status'] == 'canceled'].shape[0]"
   ]
  },
  {
   "cell_type": "markdown",
   "metadata": {},
   "source": [
    "**4. Late Deliveries**"
   ]
  },
  {
   "cell_type": "code",
   "execution_count": 14,
   "metadata": {},
   "outputs": [],
   "source": [
    "data['is_late'] = data['order_delivered_customer_date'] > data['order_estimated_delivery_date']\n",
    "late_deliveries = data[data['is_late']].shape[0]"
   ]
  },
  {
   "cell_type": "markdown",
   "metadata": {},
   "source": [
    "**Print results**"
   ]
  },
  {
   "cell_type": "code",
   "execution_count": 15,
   "metadata": {},
   "outputs": [
    {
     "name": "stdout",
     "output_type": "stream",
     "text": [
      "Total Revenue: 16188779.23\n",
      "Expected Revenue: 16641776.70\n",
      "Canceled Orders: 570\n",
      "Late Deliveries: 9068\n"
     ]
    }
   ],
   "source": [
    "print(f\"Total Revenue: {total_revenue:.2f}\")\n",
    "print(f\"Expected Revenue: {expected_revenue:.2f}\")\n",
    "print(f\"Canceled Orders: {canceled_orders}\")\n",
    "print(f\"Late Deliveries: {late_deliveries}\")"
   ]
  },
  {
   "cell_type": "markdown",
   "metadata": {},
   "source": [
    "---\n",
    "---"
   ]
  },
  {
   "cell_type": "markdown",
   "metadata": {},
   "source": []
  }
 ],
 "metadata": {
  "kernelspec": {
   "display_name": ".env",
   "language": "python",
   "name": "python3"
  },
  "language_info": {
   "codemirror_mode": {
    "name": "ipython",
    "version": 3
   },
   "file_extension": ".py",
   "mimetype": "text/x-python",
   "name": "python",
   "nbconvert_exporter": "python",
   "pygments_lexer": "ipython3",
   "version": "3.12.7"
  }
 },
 "nbformat": 4,
 "nbformat_minor": 2
}
