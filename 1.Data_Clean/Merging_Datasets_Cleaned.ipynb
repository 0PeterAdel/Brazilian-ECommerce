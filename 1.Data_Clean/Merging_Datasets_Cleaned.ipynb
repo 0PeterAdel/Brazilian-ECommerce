{
 "cells": [
  {
   "cell_type": "code",
   "execution_count": 1,
   "metadata": {},
   "outputs": [],
   "source": [
    "import pandas as pd\n",
    "import numpy as np"
   ]
  },
  {
   "cell_type": "markdown",
   "metadata": {},
   "source": [
    "### Load all cleaned datasets"
   ]
  },
  {
   "cell_type": "code",
   "execution_count": 4,
   "metadata": {},
   "outputs": [],
   "source": [
    "root_path = \"./Data_Cleaned/\"\n",
    "\n",
    "orders = pd.read_csv(root_path + 'cleaned_olist_orders_dataset.csv')\n",
    "order_items = pd.read_csv(root_path + 'cleaned_olist_order_items_dataset.csv')\n",
    "products = pd.read_csv(root_path + 'cleaned_products_dataset.csv')\n",
    "category_translation = pd.read_csv(root_path + 'cleaned_product_category_name_translation.csv')\n",
    "sellers = pd.read_csv(root_path + 'cleaned_sellers_dataset.csv')\n",
    "customers = pd.read_csv(root_path + 'cleaned_olist_customers_dataset.csv')\n",
    "order_payments = pd.read_csv(root_path + 'cleaned_olist_order_payments_dataset.csv')\n",
    "order_reviews = pd.read_csv(root_path + 'cleaned_olist_order_reviews_dataset.csv')"
   ]
  },
  {
   "cell_type": "markdown",
   "metadata": {},
   "source": [
    "**Merge step-by-step using left joins to preserve all orders**"
   ]
  },
  {
   "cell_type": "code",
   "execution_count": 5,
   "metadata": {},
   "outputs": [],
   "source": [
    "merged_data = orders.merge(order_items, on='order_id', how='left') \\\n",
    "                    .merge(products, on='product_id', how='left') \\\n",
    "                    .merge(category_translation, on='product_category_name', how='left') \\\n",
    "                    .merge(sellers, on='seller_id', how='left') \\\n",
    "                    .merge(customers, on='customer_id', how='left') \\\n",
    "                    .merge(order_payments, on='order_id', how='left') \\\n",
    "                    .merge(order_reviews, on='order_id', how='left')"
   ]
  },
  {
   "cell_type": "markdown",
   "metadata": {},
   "source": [
    "**Save the merged dataset**"
   ]
  },
  {
   "cell_type": "code",
   "execution_count": 7,
   "metadata": {},
   "outputs": [
    {
     "name": "stdout",
     "output_type": "stream",
     "text": [
      "All cleaned datasets merged and saved as './Data_Cleaned/merged_olist_dataset.csv'\n"
     ]
    }
   ],
   "source": [
    "merged_data.to_csv('./Data_Cleaned/merged_olist_dataset.csv', index=False)\n",
    "print(\"All cleaned datasets merged and saved as './Data_Cleaned/merged_olist_dataset.csv'\")"
   ]
  }
 ],
 "metadata": {
  "kernelspec": {
   "display_name": ".env",
   "language": "python",
   "name": "python3"
  },
  "language_info": {
   "codemirror_mode": {
    "name": "ipython",
    "version": 3
   },
   "file_extension": ".py",
   "mimetype": "text/x-python",
   "name": "python",
   "nbconvert_exporter": "python",
   "pygments_lexer": "ipython3",
   "version": "3.12.7"
  }
 },
 "nbformat": 4,
 "nbformat_minor": 2
}
