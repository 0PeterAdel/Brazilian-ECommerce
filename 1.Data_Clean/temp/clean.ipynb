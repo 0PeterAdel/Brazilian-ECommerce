{
 "cells": [
  {
   "cell_type": "code",
   "execution_count": 3,
   "metadata": {},
   "outputs": [],
   "source": [
    "import pandas as pd\n",
    "import numpy as np"
   ]
  },
  {
   "cell_type": "markdown",
   "metadata": {},
   "source": [
    "**1. Define the folder path and load the files**"
   ]
  },
  {
   "cell_type": "code",
   "execution_count": 41,
   "metadata": {},
   "outputs": [],
   "source": [
    "root_path = \"../DataSet/\"\n",
    "\n",
    "# Load the orders file and convert date columns to datetime type\n",
    "orders = pd.read_csv(\n",
    "    root_path + \"olist_orders_dataset.csv\",\n",
    "    parse_dates=[\n",
    "        \"order_purchase_timestamp\", \n",
    "        \"order_approved_at\", \n",
    "        \"order_delivered_carrier_date\", \n",
    "        \"order_delivered_customer_date\", \n",
    "        \"order_estimated_delivery_date\"\n",
    "    ]\n",
    ")\n",
    "\n",
    "# Load the order items file\n",
    "order_items = pd.read_csv(root_path + \"olist_order_items_dataset.csv\")\n",
    "\n",
    "# Load the payments file\n",
    "order_payments = pd.read_csv(root_path + \"olist_order_payments_dataset.csv\")\n",
    "\n",
    "# Load the reviews file\n",
    "order_reviews = pd.read_csv(root_path + \"olist_order_reviews_dataset.csv\")"
   ]
  },
  {
   "cell_type": "markdown",
   "metadata": {},
   "source": [
    "**2. Display samples of the data**"
   ]
  },
  {
   "cell_type": "code",
   "execution_count": 42,
   "metadata": {},
   "outputs": [
    {
     "name": "stdout",
     "output_type": "stream",
     "text": [
      "----- Orders -----\n",
      "                           order_id                       customer_id  \\\n",
      "0  e481f51cbdc54678b7cc49136f2d6af7  9ef432eb6251297304e76186b10a928d   \n",
      "1  53cdb2fc8bc7dce0b6741e2150273451  b0830fb4747a6c6d20dea0b8c802d7ef   \n",
      "2  47770eb9100c2d0c44946d9cf07ec65d  41ce2a54c0b03bf3443c3d931a367089   \n",
      "\n",
      "  order_status order_purchase_timestamp   order_approved_at  \\\n",
      "0    delivered      2017-10-02 10:56:00 2017-10-02 11:07:00   \n",
      "1    delivered      2018-07-24 20:41:00 2018-07-26 03:24:00   \n",
      "2    delivered      2018-08-08 08:38:00 2018-08-08 08:55:00   \n",
      "\n",
      "  order_delivered_carrier_date order_delivered_customer_date  \\\n",
      "0          2017-10-04 19:55:00           2017-10-10 21:25:00   \n",
      "1          2018-07-26 14:31:00           2018-08-07 15:27:00   \n",
      "2          2018-08-08 13:50:00           2018-08-17 18:06:00   \n",
      "\n",
      "  order_estimated_delivery_date  \n",
      "0                    2017-10-18  \n",
      "1                    2018-08-13  \n",
      "2                    2018-09-04  \n",
      "\n",
      "----- Order Items -----\n",
      "                           order_id  order_item_id  \\\n",
      "0  00010242fe8c5a6d1ba2dd792cb16214              1   \n",
      "1  00018f77f2f0320c557190d7a144bdd3              1   \n",
      "2  000229ec398224ef6ca0657da4fc703e              1   \n",
      "\n",
      "                         product_id                         seller_id  \\\n",
      "0  4244733e06e7ecb4970a6e2683c13e61  48436dade18ac8b2bce089ec2a041202   \n",
      "1  e5f2d52b802189ee658865ca93d83a8f  dd7ddc04e1b6c2c614352b383efe2d36   \n",
      "2  c777355d18b72b67abbeef9df44fd0fd  5b51032eddd242adc84c38acab88f23d   \n",
      "\n",
      "  shipping_limit_date  price  freight_value  \n",
      "0      9/19/2017 9:45   58.9          13.29  \n",
      "1      5/3/2017 11:05  239.9          19.93  \n",
      "2     1/18/2018 14:48  199.0          17.87  \n",
      "\n",
      "----- Order Payments -----\n",
      "                           order_id  payment_sequential payment_type  \\\n",
      "0  b81ef226f3fe1789b1e8b2acac839d17                   1  credit_card   \n",
      "1  a9810da82917af2d9aefd1278f1dcfa0                   1  credit_card   \n",
      "2  25e8ea4e93396b6fa0d3dd708e76c1bd                   1  credit_card   \n",
      "\n",
      "   payment_installments  payment_value  \n",
      "0                     8          99.33  \n",
      "1                     1          24.39  \n",
      "2                     1          65.71  \n",
      "\n",
      "----- Order Reviews -----\n",
      "                          review_id                          order_id  \\\n",
      "0  7bc2406110b926393aa56f80a40eba40  73fc7af87114b39712e6da79b0a377eb   \n",
      "1  80e641a11e56f04c1ad469d5645fdfde  a548910a1c6147796b98fdf73dbeba33   \n",
      "2  228ce5500dc1d8e020d8d1322874b6f0  f9e4b658b201a9f2ecdecbb34bed034b   \n",
      "\n",
      "   review_score review_comment_title review_comment_message  \\\n",
      "0             4                  NaN                    NaN   \n",
      "1             5                  NaN                    NaN   \n",
      "2             5                  NaN                    NaN   \n",
      "\n",
      "  review_creation_date review_answer_timestamp  \n",
      "0       1/18/2018 0:00         1/18/2018 21:46  \n",
      "1       3/10/2018 0:00          3/11/2018 3:05  \n",
      "2       2/17/2018 0:00         2/18/2018 14:36  \n"
     ]
    }
   ],
   "source": [
    "print(\"----- Orders -----\")\n",
    "print(orders.head(3))\n",
    "print(\"\\n----- Order Items -----\")\n",
    "print(order_items.head(3))\n",
    "print(\"\\n----- Order Payments -----\")\n",
    "print(order_payments.head(3))\n",
    "print(\"\\n----- Order Reviews -----\")\n",
    "print(order_reviews.head(3))"
   ]
  },
  {
   "cell_type": "markdown",
   "metadata": {},
   "source": [
    "**3. Calculate and print the number of missing values in each file**"
   ]
  },
  {
   "cell_type": "code",
   "execution_count": 43,
   "metadata": {},
   "outputs": [
    {
     "name": "stdout",
     "output_type": "stream",
     "text": [
      "\n",
      "Missing values in orders:\n",
      "order_id                            0\n",
      "customer_id                         0\n",
      "order_status                        0\n",
      "order_purchase_timestamp            0\n",
      "order_approved_at                 160\n",
      "order_delivered_carrier_date     1783\n",
      "order_delivered_customer_date    2965\n",
      "order_estimated_delivery_date       0\n",
      "dtype: int64\n",
      "\n",
      "Missing values in order_items:\n",
      "order_id               0\n",
      "order_item_id          0\n",
      "product_id             0\n",
      "seller_id              0\n",
      "shipping_limit_date    0\n",
      "price                  0\n",
      "freight_value          0\n",
      "dtype: int64\n",
      "\n",
      "Missing values in order_payments:\n",
      "order_id                0\n",
      "payment_sequential      0\n",
      "payment_type            0\n",
      "payment_installments    0\n",
      "payment_value           0\n",
      "dtype: int64\n",
      "\n",
      "Missing values in order_reviews:\n",
      "review_id                      0\n",
      "order_id                       0\n",
      "review_score                   0\n",
      "review_comment_title       87656\n",
      "review_comment_message     58247\n",
      "review_creation_date           0\n",
      "review_answer_timestamp        0\n",
      "dtype: int64\n"
     ]
    }
   ],
   "source": [
    "print(\"\\nMissing values in orders:\")\n",
    "print(orders.isnull().sum())\n",
    "\n",
    "print(\"\\nMissing values in order_items:\")\n",
    "print(order_items.isnull().sum())\n",
    "\n",
    "print(\"\\nMissing values in order_payments:\")\n",
    "print(order_payments.isnull().sum())\n",
    "\n",
    "print(\"\\nMissing values in order_reviews:\")\n",
    "print(order_reviews.isnull().sum())"
   ]
  },
  {
   "cell_type": "markdown",
   "metadata": {},
   "source": [
    "**4. Calculate missing value percentages in the orders file**"
   ]
  },
  {
   "cell_type": "code",
   "execution_count": 44,
   "metadata": {},
   "outputs": [
    {
     "name": "stdout",
     "output_type": "stream",
     "text": [
      "\n",
      "Missing values percentage in orders:\n",
      " order_id                         0.000000\n",
      "customer_id                      0.000000\n",
      "order_status                     0.000000\n",
      "order_purchase_timestamp         0.000000\n",
      "order_approved_at                0.160899\n",
      "order_delivered_carrier_date     1.793023\n",
      "order_delivered_customer_date    2.981668\n",
      "order_estimated_delivery_date    0.000000\n",
      "dtype: float64\n"
     ]
    }
   ],
   "source": [
    "orders_missing_pct = orders.isnull().mean() * 100\n",
    "print(\"\\nMissing values percentage in orders:\\n\", orders_missing_pct)"
   ]
  },
  {
   "cell_type": "markdown",
   "metadata": {},
   "source": [
    "**5. Analyze the status of orders missing critical values**"
   ]
  },
  {
   "cell_type": "code",
   "execution_count": 45,
   "metadata": {},
   "outputs": [
    {
     "name": "stdout",
     "output_type": "stream",
     "text": [
      "\n",
      "Order status distribution for missing order_approved_at:\n",
      "order_status\n",
      "canceled     141\n",
      "delivered     14\n",
      "created        5\n",
      "Name: count, dtype: int64\n",
      "\n",
      "Order status distribution for missing order_delivered_customer_date:\n",
      "order_status\n",
      "shipped        1107\n",
      "canceled        619\n",
      "unavailable     609\n",
      "invoiced        314\n",
      "processing      301\n",
      "delivered         8\n",
      "created           5\n",
      "approved          2\n",
      "Name: count, dtype: int64\n"
     ]
    }
   ],
   "source": [
    "# Analyze orders missing order_approved_at\n",
    "missing_approved = orders[orders['order_approved_at'].isnull()]\n",
    "print(\"\\nOrder status distribution for missing order_approved_at:\")\n",
    "print(missing_approved['order_status'].value_counts())\n",
    "\n",
    "# Analyze orders missing order_delivered_customer_date\n",
    "missing_delivered = orders[orders['order_delivered_customer_date'].isnull()]\n",
    "print(\"\\nOrder status distribution for missing order_delivered_customer_date:\")\n",
    "print(missing_delivered['order_status'].value_counts())"
   ]
  },
  {
   "cell_type": "markdown",
   "metadata": {},
   "source": [
    "**6. Confirm datetime column conversions (recheck)**"
   ]
  },
  {
   "cell_type": "code",
   "execution_count": 46,
   "metadata": {},
   "outputs": [],
   "source": [
    "orders['order_purchase_timestamp'] = pd.to_datetime(orders['order_purchase_timestamp'], errors='coerce')\n",
    "orders['order_approved_at'] = pd.to_datetime(orders['order_approved_at'], errors='coerce')\n",
    "orders['order_delivered_customer_date'] = pd.to_datetime(orders['order_delivered_customer_date'], errors='coerce')\n",
    "orders['order_estimated_delivery_date'] = pd.to_datetime(orders['order_estimated_delivery_date'], errors='coerce')"
   ]
  },
  {
   "cell_type": "markdown",
   "metadata": {},
   "source": [
    "**7. Handle missing values in the orders file**"
   ]
  },
  {
   "cell_type": "code",
   "execution_count": 47,
   "metadata": {},
   "outputs": [
    {
     "name": "stdout",
     "output_type": "stream",
     "text": [
      "\n",
      "Number of orders delivered without order_approved_at: 14\n",
      "Number of orders delivered without order_delivered_customer_date: 8\n",
      "After imputation, number of orders delivered without order_delivered_customer_date: 0\n"
     ]
    }
   ],
   "source": [
    "# (a) Handle order_approved_at:\n",
    "# Extract delivered orders missing order_approved_at\n",
    "delivered_missing_approval = orders[(orders['order_status'] == 'delivered') & (orders['order_approved_at'].isnull())]\n",
    "print(\"\\nNumber of orders delivered without order_approved_at:\", delivered_missing_approval.shape[0])\n",
    "\n",
    "# Exclude these rows from approval time calculation (since they represent a very small percentage)\n",
    "orders_valid_approval = orders[~((orders['order_status'] == 'delivered') & (orders['order_approved_at'].isnull()))]\n",
    "\n",
    "# (b) Handle order_delivered_customer_date:\n",
    "# Extract delivered orders missing order_delivered_customer_date\n",
    "delivered_missing_delivery = orders[(orders['order_status'] == 'delivered') & (orders['order_delivered_customer_date'].isnull())]\n",
    "print(\"Number of orders delivered without order_delivered_customer_date:\", delivered_missing_delivery.shape[0])\n",
    "\n",
    "# Use the estimated delivery date as a temporary substitute for those delivered orders (with documentation of this step)\n",
    "mask = (orders['order_status'] == 'delivered') & (orders['order_delivered_customer_date'].isnull())\n",
    "orders.loc[mask, 'order_delivered_customer_date'] = orders.loc[mask, 'order_estimated_delivery_date']\n",
    "\n",
    "# Ensure missing values in order_delivered_customer_date for delivered orders are handled\n",
    "missing_delivered_after = orders[(orders['order_status'] == 'delivered') & (orders['order_delivered_customer_date'].isnull())].shape[0]\n",
    "print(\"After imputation, number of orders delivered without order_delivered_customer_date:\", missing_delivered_after)"
   ]
  },
  {
   "cell_type": "markdown",
   "metadata": {},
   "source": [
    "**8. Handle missing values in the order_reviews file**"
   ]
  },
  {
   "cell_type": "code",
   "execution_count": 48,
   "metadata": {},
   "outputs": [],
   "source": [
    "# In the order_reviews file, there are many missing values in the review_comment_message column.\n",
    "# Replace them with a default text \"No Comment\" to ease the analysis.\n",
    "order_reviews['review_comment_message'] = order_reviews['review_comment_message'].fillna(\"No Comment\")"
   ]
  },
  {
   "cell_type": "markdown",
   "metadata": {},
   "source": [
    "**9. Save the processed data**"
   ]
  },
  {
   "cell_type": "code",
   "execution_count": null,
   "metadata": {},
   "outputs": [],
   "source": [
    "# Save a version of the orders file after excluding invalid rows (for example, for approval time analysis)\n",
    "orders_clean = orders_valid_approval.copy()\n",
    "orders_clean.to_csv(\"cleaned_orders_dataset.csv\", index=False)\n",
    "\n",
    "# Save a version of the order_reviews file after handling missing values\n",
    "order_reviews.to_csv(\"cleaned_order_reviews_dataset.csv\", index=False)"
   ]
  },
  {
   "cell_type": "markdown",
   "metadata": {},
   "source": [
    "**10. Display a sample of the processed data for verification**"
   ]
  },
  {
   "cell_type": "code",
   "execution_count": 50,
   "metadata": {},
   "outputs": [
    {
     "name": "stdout",
     "output_type": "stream",
     "text": [
      "\n",
      "----- Cleaned Orders Sample -----\n",
      "                           order_id                       customer_id  \\\n",
      "0  e481f51cbdc54678b7cc49136f2d6af7  9ef432eb6251297304e76186b10a928d   \n",
      "1  53cdb2fc8bc7dce0b6741e2150273451  b0830fb4747a6c6d20dea0b8c802d7ef   \n",
      "2  47770eb9100c2d0c44946d9cf07ec65d  41ce2a54c0b03bf3443c3d931a367089   \n",
      "3  949d5b44dbf5de918fe9c16f97b45f8a  f88197465ea7920adcdbec7375364d82   \n",
      "4  ad21c59c0840e6cb83a9ceb5573f8159  8ab97904e6daea8866dbdbc4fb7aad2c   \n",
      "\n",
      "  order_status order_purchase_timestamp   order_approved_at  \\\n",
      "0    delivered      2017-10-02 10:56:00 2017-10-02 11:07:00   \n",
      "1    delivered      2018-07-24 20:41:00 2018-07-26 03:24:00   \n",
      "2    delivered      2018-08-08 08:38:00 2018-08-08 08:55:00   \n",
      "3    delivered      2017-11-18 19:28:00 2017-11-18 19:45:00   \n",
      "4    delivered      2018-02-13 21:18:00 2018-02-13 22:20:00   \n",
      "\n",
      "  order_delivered_carrier_date order_delivered_customer_date  \\\n",
      "0          2017-10-04 19:55:00           2017-10-10 21:25:00   \n",
      "1          2018-07-26 14:31:00           2018-08-07 15:27:00   \n",
      "2          2018-08-08 13:50:00           2018-08-17 18:06:00   \n",
      "3          2017-11-22 13:39:00           2017-12-02 00:28:00   \n",
      "4          2018-02-14 19:46:00           2018-02-16 18:17:00   \n",
      "\n",
      "  order_estimated_delivery_date  \n",
      "0                    2017-10-18  \n",
      "1                    2018-08-13  \n",
      "2                    2018-09-04  \n",
      "3                    2017-12-15  \n",
      "4                    2018-02-26  \n",
      "\n",
      "----- Cleaned Order Reviews Sample -----\n",
      "                          review_id                          order_id  \\\n",
      "0  7bc2406110b926393aa56f80a40eba40  73fc7af87114b39712e6da79b0a377eb   \n",
      "1  80e641a11e56f04c1ad469d5645fdfde  a548910a1c6147796b98fdf73dbeba33   \n",
      "2  228ce5500dc1d8e020d8d1322874b6f0  f9e4b658b201a9f2ecdecbb34bed034b   \n",
      "3  e64fb393e7b32834bb789ff8bb30750e  658677c97b385a9be170737859d3511b   \n",
      "4  f7c4243c7fe1938f181bec41a392bdeb  8e6bfb81e283fa7e4f11123a3fb894f1   \n",
      "\n",
      "   review_score review_comment_title  \\\n",
      "0             4                  NaN   \n",
      "1             5                  NaN   \n",
      "2             5                  NaN   \n",
      "3             5                  NaN   \n",
      "4             5                  NaN   \n",
      "\n",
      "                              review_comment_message review_creation_date  \\\n",
      "0                                         No Comment       1/18/2018 0:00   \n",
      "1                                         No Comment       3/10/2018 0:00   \n",
      "2                                         No Comment       2/17/2018 0:00   \n",
      "3              Recebi bem antes do prazo estipulado.       4/21/2017 0:00   \n",
      "4  Parabéns lojas lannister adorei comprar pela I...        3/1/2018 0:00   \n",
      "\n",
      "  review_answer_timestamp  \n",
      "0         1/18/2018 21:46  \n",
      "1          3/11/2018 3:05  \n",
      "2         2/18/2018 14:36  \n",
      "3         4/21/2017 22:02  \n",
      "4          3/2/2018 10:26  \n"
     ]
    }
   ],
   "source": [
    "print(\"\\n----- Cleaned Orders Sample -----\")\n",
    "print(orders_clean.head())\n",
    "\n",
    "print(\"\\n----- Cleaned Order Reviews Sample -----\")\n",
    "print(order_reviews.head())"
   ]
  }
 ],
 "metadata": {
  "kernelspec": {
   "display_name": ".env",
   "language": "python",
   "name": "python3"
  },
  "language_info": {
   "codemirror_mode": {
    "name": "ipython",
    "version": 3
   },
   "file_extension": ".py",
   "mimetype": "text/x-python",
   "name": "python",
   "nbconvert_exporter": "python",
   "pygments_lexer": "ipython3",
   "version": "3.12.7"
  }
 },
 "nbformat": 4,
 "nbformat_minor": 2
}
